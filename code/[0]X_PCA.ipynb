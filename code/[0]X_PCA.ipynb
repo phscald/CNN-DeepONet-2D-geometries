{
 "cells": [
  {
   "cell_type": "code",
   "execution_count": null,
   "metadata": {},
   "outputs": [],
   "source": [
    "import numpy as np\n",
    "import tensorflow as tf\n",
    "import keras\n",
    "import matplotlib.pyplot as plt\n",
    "from sklearn.utils import shuffle\n",
    "import tensorflow.keras.backend as K\n",
    "from tensorflow.keras.layers import *\n",
    "from tensorflow.keras.optimizers import Adam\n",
    "from tensorflow.keras.models import Model, load_model, Sequential\n",
    "from sklearn.preprocessing import StandardScaler, MinMaxScaler\n",
    "from sklearn.metrics import multilabel_confusion_matrix, f1_score, precision_score, recall_score, accuracy_score\n",
    "from sklearn.model_selection import train_test_split\n",
    "import os\n",
    "from sklearn.decomposition import PCA\n",
    "from tensorflow.keras.callbacks import EarlyStopping\n",
    "from keras.losses import MeanSquaredError\n",
    "from sklearn.metrics import mean_squared_error, r2_score, mean_absolute_percentage_error\n",
    "import pickle\n",
    "\n",
    "path = '../'\n",
    "path_BD = 'BD_1/'\n",
    "path_models = 'models/'\n",
    "path_img = 'im/'\n",
    "\n",
    "charac = ['X_EfficientNetB7.pkl']\n",
    "save_file = ['X_EfficientNetB7_PCA.pkl']\n",
    "key = ['X_EfficientNetB7_encoded']\n",
    "i = 0\n",
    "charac = charac[i]\n",
    "key = key[i]\n",
    "save_file = save_file[i]\n",
    "\n",
    "import time\n",
    "timer = time.time()\n",
    "\n",
    "def load(filepath, keys):\n",
    "  with open(filepath, 'rb') as filepath:\n",
    "      arquivos = pickle.load(filepath)\n",
    "      \n",
    "  retorno = list()\n",
    "  for i in range(len(keys)):\n",
    "      retorno.append(arquivos[keys[i]])\n",
    "\n",
    "  return retorno\n",
    "\n",
    "def load_database(file, key):\n",
    "\n",
    "  filepath = path + path_BD + file\n",
    "  key = [key]\n",
    "  X = load(filepath, key)[0]\n",
    "\n",
    "  return X\n",
    "\n",
    "X = load_database(charac, key)\n",
    "\n",
    "def PCA_X(X):\n",
    "   nPCA = 32\n",
    "   X_return = np.zeros((X.shape[0], X.shape[1], X.shape[2], nPCA))\n",
    "   explained_variance_ratios = []\n",
    "   for i in range(X.shape[0]):\n",
    "      print(i)\n",
    "      X_aux = np.reshape(X[i], (X[i].shape[0]*X[i].shape[1], X[i].shape[2]))\n",
    "      pca = PCA(n_components = nPCA)\n",
    "      X_aux = pca.fit_transform(X_aux)\n",
    "      X_return[i] = np.reshape(X_aux, (X[i].shape[0], X[i].shape[1], nPCA))\n",
    "      explained_variance_ratios.append(pca.explained_variance_ratio_)\n",
    "   explained_variance_ratios = np.array(explained_variance_ratios)\n",
    "   return X_return, explained_variance_ratios\n",
    "\n",
    "X, explained_variance_ratios = PCA_X(X)"
   ]
  },
  {
   "cell_type": "code",
   "execution_count": 10,
   "metadata": {},
   "outputs": [],
   "source": [
    "filepath = path + path_BD + save_file\n",
    "with open(filepath,\"wb\") as filepath:\n",
    "\tpickle.dump({\"X\": X}, filepath)"
   ]
  },
  {
   "cell_type": "code",
   "execution_count": 11,
   "metadata": {},
   "outputs": [
    {
     "data": {
      "text/plain": [
       "0"
      ]
     },
     "execution_count": 11,
     "metadata": {},
     "output_type": "execute_result"
    }
   ],
   "source": [
    "%reset -f\n",
    "import gc\n",
    "gc.collect()"
   ]
  }
 ],
 "metadata": {
  "kernelspec": {
   "display_name": "Python 3",
   "language": "python",
   "name": "python3"
  },
  "language_info": {
   "codemirror_mode": {
    "name": "ipython",
    "version": 3
   },
   "file_extension": ".py",
   "mimetype": "text/x-python",
   "name": "python",
   "nbconvert_exporter": "python",
   "pygments_lexer": "ipython3",
   "version": "3.10.12"
  },
  "orig_nbformat": 4
 },
 "nbformat": 4,
 "nbformat_minor": 2
}
