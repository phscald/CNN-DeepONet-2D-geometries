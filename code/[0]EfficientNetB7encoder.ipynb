{
 "cells": [
  {
   "cell_type": "code",
   "execution_count": 1,
   "metadata": {
    "executionInfo": {
     "elapsed": 4076,
     "status": "ok",
     "timestamp": 1691001209176,
     "user": {
      "displayName": "Pedro Henrique Calderano",
      "userId": "13769019452342157258"
     },
     "user_tz": 180
    },
    "id": "woDBqJEElBCp"
   },
   "outputs": [
    {
     "name": "stderr",
     "output_type": "stream",
     "text": [
      "2024-04-03 16:52:56.234661: I tensorflow/core/util/port.cc:111] oneDNN custom operations are on. You may see slightly different numerical results due to floating-point round-off errors from different computation orders. To turn them off, set the environment variable `TF_ENABLE_ONEDNN_OPTS=0`.\n",
      "2024-04-03 16:52:56.522504: E tensorflow/compiler/xla/stream_executor/cuda/cuda_dnn.cc:9342] Unable to register cuDNN factory: Attempting to register factory for plugin cuDNN when one has already been registered\n",
      "2024-04-03 16:52:56.522559: E tensorflow/compiler/xla/stream_executor/cuda/cuda_fft.cc:609] Unable to register cuFFT factory: Attempting to register factory for plugin cuFFT when one has already been registered\n",
      "2024-04-03 16:52:56.523654: E tensorflow/compiler/xla/stream_executor/cuda/cuda_blas.cc:1518] Unable to register cuBLAS factory: Attempting to register factory for plugin cuBLAS when one has already been registered\n",
      "2024-04-03 16:52:56.641805: I tensorflow/core/platform/cpu_feature_guard.cc:182] This TensorFlow binary is optimized to use available CPU instructions in performance-critical operations.\n",
      "To enable the following instructions: AVX2 AVX_VNNI FMA, in other operations, rebuild TensorFlow with the appropriate compiler flags.\n"
     ]
    }
   ],
   "source": [
    "import numpy as np\n",
    "import tensorflow as tf\n",
    "import matplotlib.pyplot as plt\n",
    "from sklearn.utils import shuffle\n",
    "import tensorflow.keras.backend as K\n",
    "from tensorflow.keras.layers import *\n",
    "from tensorflow.keras.optimizers import Adam\n",
    "from tensorflow.keras.models import Model, load_model, Sequential\n",
    "from sklearn.preprocessing import StandardScaler, MinMaxScaler\n",
    "from sklearn.metrics import multilabel_confusion_matrix, f1_score, precision_score, recall_score, accuracy_score\n",
    "from sklearn.model_selection import train_test_split\n",
    "import os\n",
    "from tensorflow.keras.callbacks import EarlyStopping\n",
    "from keras.losses import MeanSquaredError\n",
    "from sklearn.metrics import mean_squared_error, r2_score\n",
    "import pickle"
   ]
  },
  {
   "cell_type": "code",
   "execution_count": null,
   "metadata": {},
   "outputs": [],
   "source": [
    "print(\"Num GPUs Available: \", len(tf.config.list_physical_devices('GPU')))"
   ]
  },
  {
   "cell_type": "code",
   "execution_count": 2,
   "metadata": {
    "executionInfo": {
     "elapsed": 7,
     "status": "ok",
     "timestamp": 1691001231666,
     "user": {
      "displayName": "Pedro Henrique Calderano",
      "userId": "13769019452342157258"
     },
     "user_tz": 180
    },
    "id": "q3hJHdwnlLXw"
   },
   "outputs": [],
   "source": [
    "path = '../'\n",
    "path_BD = 'BD_1/'\n",
    "path_models = 'models/'"
   ]
  },
  {
   "cell_type": "code",
   "execution_count": 3,
   "metadata": {
    "executionInfo": {
     "elapsed": 6,
     "status": "ok",
     "timestamp": 1691001231667,
     "user": {
      "displayName": "Pedro Henrique Calderano",
      "userId": "13769019452342157258"
     },
     "user_tz": 180
    },
    "id": "XUkLVwIGlPZr"
   },
   "outputs": [],
   "source": [
    "import time\n",
    "timer = time.time()"
   ]
  },
  {
   "cell_type": "code",
   "execution_count": null,
   "metadata": {
    "executionInfo": {
     "elapsed": 11,
     "status": "ok",
     "timestamp": 1691001265026,
     "user": {
      "displayName": "Pedro Henrique Calderano",
      "userId": "13769019452342157258"
     },
     "user_tz": 180
    },
    "id": "BkLPYw-8Huf2"
   },
   "outputs": [],
   "source": [
    "def define_model():\n",
    "  # Defining a global average pooling layer and a classfication layer\n",
    "  # global_average_layer = tf.keras.layers.GlobalAveragePooling2D()\n",
    "  avg_layer = Lambda(lambda x: tf.reduce_mean(x, axis=-1))\n",
    "\n",
    "  # use the preprocessing method included with the model.\n",
    "  preprocess_input = tf.keras.applications.vgg16.preprocess_input\n",
    "\n",
    "  # Build a model by chaining together the data augmentation, rescaling,\n",
    "  # base_model and feature extractor layers using the Keras Functional API.\n",
    "  inputs = tf.keras.Input(shape=(334, 499, 3))\n",
    "\n",
    "  x = preprocess_input(inputs)\n",
    "  base_model = tf.keras.applications.EfficientNetB7(\n",
    "                                            include_top=False,\n",
    "                                            weights='imagenet',\n",
    "                                            input_tensor=x,\n",
    "                                            input_shape=None,\n",
    "                                            pooling=False)\n",
    "\n",
    "  x = base_model(x)\n",
    "\n",
    "  outputs = x\n",
    "\n",
    "  model = tf.keras.Model(inputs, outputs)\n",
    "  model.summary()\n",
    "\n",
    "  # Compile the model\n",
    "  base_learning_rate = 0.0001\n",
    "  model.compile(optimizer=tf.keras.optimizers.Adam(learning_rate=base_learning_rate),\n",
    "                loss='mse',\n",
    "                metrics=['mse'])\n",
    "\n",
    "  return model"
   ]
  },
  {
   "cell_type": "code",
   "execution_count": null,
   "metadata": {
    "executionInfo": {
     "elapsed": 10,
     "status": "ok",
     "timestamp": 1691001265027,
     "user": {
      "displayName": "Pedro Henrique Calderano",
      "userId": "13769019452342157258"
     },
     "user_tz": 180
    },
    "id": "NDhE7OIiHBs2"
   },
   "outputs": [],
   "source": [
    "def load_database():\n",
    "  file = path + path_BD + 'X_pack_3apr.pkl'\n",
    "  with open(file, 'rb') as filepath:\n",
    "      arquivos = pickle.load(filepath)\n",
    "\n",
    "  X = arquivos[\"X\"]\n",
    "\n",
    "  return X"
   ]
  },
  {
   "cell_type": "code",
   "execution_count": null,
   "metadata": {},
   "outputs": [],
   "source": [
    "X = load_database()\n",
    "X = np.concatenate((X[:,:,:,np.newaxis],X[:,:,:,np.newaxis],X[:,:,:,np.newaxis]), axis = 3)\n",
    "print(X.shape)"
   ]
  },
  {
   "cell_type": "code",
   "execution_count": 7,
   "metadata": {
    "colab": {
     "base_uri": "https://localhost:8080/"
    },
    "executionInfo": {
     "elapsed": 2599,
     "status": "ok",
     "timestamp": 1691001330336,
     "user": {
      "displayName": "Pedro Henrique Calderano",
      "userId": "13769019452342157258"
     },
     "user_tz": 180
    },
    "id": "OwT4X2fSID7M",
    "outputId": "7dd9b25f-f783-463b-9961-9f58ef71913b"
   },
   "outputs": [
    {
     "name": "stderr",
     "output_type": "stream",
     "text": [
      "2024-04-03 16:53:40.868319: I tensorflow/compiler/xla/stream_executor/cuda/cuda_gpu_executor.cc:894] successful NUMA node read from SysFS had negative value (-1), but there must be at least one NUMA node, so returning NUMA node zero. See more at https://github.com/torvalds/linux/blob/v6.0/Documentation/ABI/testing/sysfs-bus-pci#L344-L355\n",
      "2024-04-03 16:53:40.943893: I tensorflow/compiler/xla/stream_executor/cuda/cuda_gpu_executor.cc:894] successful NUMA node read from SysFS had negative value (-1), but there must be at least one NUMA node, so returning NUMA node zero. See more at https://github.com/torvalds/linux/blob/v6.0/Documentation/ABI/testing/sysfs-bus-pci#L344-L355\n",
      "2024-04-03 16:53:40.944088: I tensorflow/compiler/xla/stream_executor/cuda/cuda_gpu_executor.cc:894] successful NUMA node read from SysFS had negative value (-1), but there must be at least one NUMA node, so returning NUMA node zero. See more at https://github.com/torvalds/linux/blob/v6.0/Documentation/ABI/testing/sysfs-bus-pci#L344-L355\n",
      "2024-04-03 16:53:40.947362: I tensorflow/compiler/xla/stream_executor/cuda/cuda_gpu_executor.cc:894] successful NUMA node read from SysFS had negative value (-1), but there must be at least one NUMA node, so returning NUMA node zero. See more at https://github.com/torvalds/linux/blob/v6.0/Documentation/ABI/testing/sysfs-bus-pci#L344-L355\n",
      "2024-04-03 16:53:40.947527: I tensorflow/compiler/xla/stream_executor/cuda/cuda_gpu_executor.cc:894] successful NUMA node read from SysFS had negative value (-1), but there must be at least one NUMA node, so returning NUMA node zero. See more at https://github.com/torvalds/linux/blob/v6.0/Documentation/ABI/testing/sysfs-bus-pci#L344-L355\n",
      "2024-04-03 16:53:40.947617: I tensorflow/compiler/xla/stream_executor/cuda/cuda_gpu_executor.cc:894] successful NUMA node read from SysFS had negative value (-1), but there must be at least one NUMA node, so returning NUMA node zero. See more at https://github.com/torvalds/linux/blob/v6.0/Documentation/ABI/testing/sysfs-bus-pci#L344-L355\n",
      "2024-04-03 16:53:41.005603: I tensorflow/compiler/xla/stream_executor/cuda/cuda_gpu_executor.cc:894] successful NUMA node read from SysFS had negative value (-1), but there must be at least one NUMA node, so returning NUMA node zero. See more at https://github.com/torvalds/linux/blob/v6.0/Documentation/ABI/testing/sysfs-bus-pci#L344-L355\n",
      "2024-04-03 16:53:41.005669: I tensorflow/compiler/xla/stream_executor/cuda/cuda_gpu_executor.cc:894] successful NUMA node read from SysFS had negative value (-1), but there must be at least one NUMA node, so returning NUMA node zero. See more at https://github.com/torvalds/linux/blob/v6.0/Documentation/ABI/testing/sysfs-bus-pci#L344-L355\n",
      "2024-04-03 16:53:41.005720: I tensorflow/compiler/xla/stream_executor/cuda/cuda_gpu_executor.cc:894] successful NUMA node read from SysFS had negative value (-1), but there must be at least one NUMA node, so returning NUMA node zero. See more at https://github.com/torvalds/linux/blob/v6.0/Documentation/ABI/testing/sysfs-bus-pci#L344-L355\n",
      "2024-04-03 16:53:41.005760: I tensorflow/core/common_runtime/gpu/gpu_device.cc:1886] Created device /job:localhost/replica:0/task:0/device:GPU:0 with 22260 MB memory:  -> device: 0, name: NVIDIA GeForce RTX 4090, pci bus id: 0000:01:00.0, compute capability: 8.9\n"
     ]
    },
    {
     "name": "stdout",
     "output_type": "stream",
     "text": [
      "Model: \"model\"\n",
      "_________________________________________________________________\n",
      " Layer (type)                Output Shape              Param #   \n",
      "=================================================================\n",
      " input_1 (InputLayer)        [(None, 334, 499, 3)]     0         \n",
      "                                                                 \n",
      " tf.__operators__.getitem (  (None, 334, 499, 3)       0         \n",
      " SlicingOpLambda)                                                \n",
      "                                                                 \n",
      " tf.nn.bias_add (TFOpLambda  (None, 334, 499, 3)       0         \n",
      " )                                                               \n",
      "                                                                 \n",
      " efficientnetb7 (Functional  (None, 11, 16, 2560)      64097687  \n",
      " )                                                               \n",
      "                                                                 \n",
      "=================================================================\n",
      "Total params: 64097687 (244.51 MB)\n",
      "Trainable params: 63786960 (243.33 MB)\n",
      "Non-trainable params: 310727 (1.19 MB)\n",
      "_________________________________________________________________\n"
     ]
    }
   ],
   "source": [
    "model = define_model()"
   ]
  },
  {
   "cell_type": "code",
   "execution_count": 8,
   "metadata": {
    "executionInfo": {
     "elapsed": 7,
     "status": "ok",
     "timestamp": 1691001330337,
     "user": {
      "displayName": "Pedro Henrique Calderano",
      "userId": "13769019452342157258"
     },
     "user_tz": 180
    },
    "id": "cqTM2NgOR4s-"
   },
   "outputs": [],
   "source": [
    "batch_size = 32\n",
    "n_runs = int(X.shape[0]/batch_size)\n",
    "sobra = X.shape[0]%batch_size\n",
    "if (sobra != 0): n_runs += 1"
   ]
  },
  {
   "cell_type": "code",
   "execution_count": 10,
   "metadata": {
    "executionInfo": {
     "elapsed": 49651,
     "status": "ok",
     "timestamp": 1691001380543,
     "user": {
      "displayName": "Pedro Henrique Calderano",
      "userId": "13769019452342157258"
     },
     "user_tz": 180
    },
    "id": "2MvP2Ce4qRIi"
   },
   "outputs": [
    {
     "name": "stderr",
     "output_type": "stream",
     "text": [
      "2024-04-03 16:53:51.016647: I tensorflow/tsl/platform/default/subprocess.cc:304] Start cannot spawn child process: No such file or directory\n",
      "2024-04-03 16:53:51.286186: I tensorflow/compiler/xla/stream_executor/cuda/cuda_dnn.cc:442] Loaded cuDNN version 8907\n",
      "2024-04-03 16:53:51.438285: I tensorflow/tsl/platform/default/subprocess.cc:304] Start cannot spawn child process: No such file or directory\n"
     ]
    },
    {
     "name": "stdout",
     "output_type": "stream",
     "text": [
      "0\n",
      "1\n",
      "2\n",
      "3\n",
      "4\n",
      "5\n",
      "6\n",
      "7\n",
      "8\n",
      "9\n",
      "10\n",
      "11\n",
      "12\n",
      "13\n",
      "14\n",
      "15\n",
      "16\n",
      "17\n",
      "18\n",
      "19\n",
      "20\n",
      "21\n",
      "22\n",
      "23\n",
      "24\n",
      "25\n",
      "26\n",
      "27\n",
      "28\n",
      "29\n",
      "30\n",
      "31\n",
      "32\n",
      "33\n",
      "34\n",
      "35\n",
      "36\n",
      "37\n",
      "38\n",
      "39\n",
      "40\n",
      "41\n",
      "42\n",
      "43\n",
      "44\n",
      "45\n",
      "46\n",
      "47\n",
      "48\n",
      "49\n",
      "50\n",
      "51\n",
      "52\n",
      "53\n",
      "54\n",
      "55\n",
      "56\n",
      "57\n",
      "58\n",
      "59\n",
      "60\n",
      "61\n",
      "62\n",
      "63\n",
      "64\n",
      "65\n",
      "66\n",
      "67\n",
      "68\n",
      "69\n",
      "70\n",
      "71\n",
      "72\n",
      "73\n",
      "74\n",
      "75\n",
      "76\n",
      "77\n",
      "78\n",
      "79\n",
      "80\n"
     ]
    }
   ],
   "source": [
    "X_transformed = []  # Use a list instead of a tensor\n",
    "\n",
    "for i in range(n_runs):\n",
    "    X_batch_transformed = model(X[i*batch_size:(i+1)*batch_size,:,:,:])\n",
    "    X_transformed.append(X_batch_transformed)\n",
    "    print(i)\n",
    "\n",
    "# Convert the list to a NumPy array\n",
    "X_transformed = np.concatenate(X_transformed, axis=0)"
   ]
  },
  {
   "cell_type": "code",
   "execution_count": 12,
   "metadata": {
    "executionInfo": {
     "elapsed": 3,
     "status": "ok",
     "timestamp": 1691001429915,
     "user": {
      "displayName": "Pedro Henrique Calderano",
      "userId": "13769019452342157258"
     },
     "user_tz": 180
    },
    "id": "-nPx26PxGwPN"
   },
   "outputs": [],
   "source": [
    "filepath = path + path_BD + 'X_EfficientNetB7.pkl'\n",
    "import pickle\n",
    "with open(filepath,\"wb\") as filepath:\n",
    "    pickle.dump({\"X_EfficientNetB7_encoded\": X_transformed}, filepath)"
   ]
  },
  {
   "cell_type": "code",
   "execution_count": 13,
   "metadata": {},
   "outputs": [
    {
     "data": {
      "text/plain": [
       "0"
      ]
     },
     "execution_count": 13,
     "metadata": {},
     "output_type": "execute_result"
    }
   ],
   "source": [
    "import gc \n",
    "gc.collect()"
   ]
  }
 ],
 "metadata": {
  "accelerator": "GPU",
  "colab": {
   "authorship_tag": "ABX9TyPtlg/HAp7W4eKnhi3h9Fx1",
   "gpuType": "A100",
   "provenance": []
  },
  "kernelspec": {
   "display_name": "Python 3 (ipykernel)",
   "language": "python",
   "name": "python3"
  },
  "language_info": {
   "codemirror_mode": {
    "name": "ipython",
    "version": 3
   },
   "file_extension": ".py",
   "mimetype": "text/x-python",
   "name": "python",
   "nbconvert_exporter": "python",
   "pygments_lexer": "ipython3",
   "version": "3.11.0"
  }
 },
 "nbformat": 4,
 "nbformat_minor": 0
}
